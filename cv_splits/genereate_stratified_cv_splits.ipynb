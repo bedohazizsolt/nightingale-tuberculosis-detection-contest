{
 "cells": [
  {
   "cell_type": "raw",
   "id": "3ed9bec5-2add-4815-8920-2c520452dff5",
   "metadata": {},
   "source": [
    "\"\"\"\n",
    "Copyright 2024 Zsolt Bedőházi, András M. Biricz\n",
    "\n",
    "Licensed under the Apache License, Version 2.0 (the \"License\");\n",
    "you may not use this file except in compliance with the License.\n",
    "You may obtain a copy of the License at\n",
    "\n",
    "    https://www.apache.org/licenses/LICENSE-2.0\n",
    "\n",
    "Unless required by applicable law or agreed to in writing, software\n",
    "distributed under the License is distributed on an \"AS IS\" BASIS,\n",
    "WITHOUT WARRANTIES OR CONDITIONS OF ANY KIND, either express or implied.\n",
    "See the License for the specific language governing permissions and\n",
    "limitations under the License.\n",
    "\"\"\""
   ]
  },
  {
   "cell_type": "raw",
   "id": "8148cd02-516d-4ff9-be2c-77f884e0fd85",
   "metadata": {
    "tags": []
   },
   "source": [
    "! pip install hydra-core"
   ]
  },
  {
   "cell_type": "code",
   "execution_count": null,
   "id": "579ba705-6cee-4e88-9e90-da2123253943",
   "metadata": {
    "tags": []
   },
   "outputs": [],
   "source": [
    "import sys\n",
    "import os\n",
    "import random\n",
    "import glob\n",
    "import ngsci\n",
    "import h5py\n",
    "import cv2\n",
    "import yaml\n",
    "import matplotlib\n",
    "import torch\n",
    "import hydra\n",
    "import numpy as np\n",
    "import pandas as pd\n",
    "from tqdm import tqdm\n",
    "from openslide import OpenSlide\n",
    "from PIL import Image\n",
    "from collections import Counter\n",
    "import matplotlib.pyplot as plt\n",
    "from omegaconf import OmegaConf\n",
    "from omegaconf import DictConfig\n",
    "from sklearn.model_selection import KFold\n",
    "from sklearn.model_selection import StratifiedKFold"
   ]
  },
  {
   "cell_type": "code",
   "execution_count": null,
   "id": "01c44705-36b8-4f7e-b1f2-b9b2a3979fc0",
   "metadata": {
    "tags": []
   },
   "outputs": [],
   "source": [
    "preproc_conf = OmegaConf.load(\"/home/ngsci/project/tuberculosis_detection/conf/preproc.yaml\") "
   ]
  },
  {
   "cell_type": "code",
   "execution_count": null,
   "id": "edeff84d-f2d9-4841-ac5f-77c6e595b636",
   "metadata": {
    "tags": []
   },
   "outputs": [],
   "source": [
    "preproc_conf = preproc_conf['hipt_stage3_on_embeddings_bag'][\"uni_224_224_patches\"]"
   ]
  },
  {
   "cell_type": "code",
   "execution_count": null,
   "id": "90c5b5e6-8b86-4def-a278-ed6e4dd6131f",
   "metadata": {
    "tags": []
   },
   "outputs": [],
   "source": [
    "data_root_dir = preproc_conf[\"data_root_dir\"]\n",
    "data_root_dir"
   ]
  },
  {
   "cell_type": "code",
   "execution_count": null,
   "id": "1c3f637e-0216-4300-8a9f-5c92dfd34c52",
   "metadata": {
    "tags": []
   },
   "outputs": [],
   "source": [
    "tb_labels = pd.read_csv(data_root_dir + \"v1/\" + \"tb-labels.csv\")"
   ]
  },
  {
   "cell_type": "code",
   "execution_count": null,
   "id": "f6dc38bc-fe79-498c-8a27-354e49738df7",
   "metadata": {
    "tags": []
   },
   "outputs": [],
   "source": [
    "tb_labels"
   ]
  },
  {
   "cell_type": "code",
   "execution_count": null,
   "id": "1d7cc09b-e6e7-4ee4-8ff9-a9c5d86e5378",
   "metadata": {
    "tags": []
   },
   "outputs": [],
   "source": [
    "tb_labels.shape"
   ]
  },
  {
   "cell_type": "code",
   "execution_count": null,
   "id": "b574ae8a-a81a-4a08-8078-c09ad92b70ad",
   "metadata": {
    "tags": []
   },
   "outputs": [],
   "source": [
    "tb_labels[\"image_dir\"] = tb_labels[\"file_path\"].apply(lambda x: os.path.basename(os.path.dirname(x)))"
   ]
  },
  {
   "cell_type": "code",
   "execution_count": null,
   "id": "9368e463-3835-403d-945a-51e3ec5ec3c9",
   "metadata": {
    "tags": []
   },
   "outputs": [],
   "source": [
    "tb_labels.head(3)"
   ]
  },
  {
   "cell_type": "markdown",
   "id": "850c86b4-181b-4076-8ab7-cae81c4e5b84",
   "metadata": {},
   "source": [
    "### Generate local test set (10%)"
   ]
  },
  {
   "cell_type": "code",
   "execution_count": null,
   "id": "a34f87f4-f1ff-4e74-aae3-b52898d46b33",
   "metadata": {
    "tags": []
   },
   "outputs": [],
   "source": [
    "n_splits = 8\n",
    "\n",
    "skf = StratifiedKFold(n_splits=n_splits, shuffle=True, random_state=87)"
   ]
  },
  {
   "cell_type": "code",
   "execution_count": null,
   "id": "54982d37-9147-4178-8e79-983c05caf3f5",
   "metadata": {
    "tags": []
   },
   "outputs": [],
   "source": [
    "data_idx = tb_labels.index.values\n",
    "\n",
    "train_splits = []\n",
    "val_splits = []\n",
    "\n",
    "for train_idx, val_idx in skf.split(data_idx, tb_labels.iloc[data_idx]['tb_positive']):\n",
    "    \n",
    "    train_splits.append(train_idx)\n",
    "    val_splits.append(val_idx)\n",
    "    \n",
    "    break"
   ]
  },
  {
   "cell_type": "code",
   "execution_count": null,
   "id": "20bbe462-c5a4-4e7a-b6d8-db7f85e11093",
   "metadata": {
    "tags": []
   },
   "outputs": [],
   "source": [
    "len(train_splits[0]), len(val_splits[0])"
   ]
  },
  {
   "cell_type": "code",
   "execution_count": null,
   "id": "21547597-8698-41e7-9bd0-d00aaa277b5b",
   "metadata": {
    "tags": []
   },
   "outputs": [],
   "source": [
    "print(np.unique(tb_labels.iloc[val_splits[0]]['tb_positive'], return_counts=True))"
   ]
  },
  {
   "cell_type": "code",
   "execution_count": null,
   "id": "3b3be635-d493-4479-a993-0db802020dd1",
   "metadata": {
    "tags": []
   },
   "outputs": [],
   "source": [
    "tb_labels_test = tb_labels.iloc[val_splits[0]]\n",
    "tb_labels_test"
   ]
  },
  {
   "cell_type": "markdown",
   "id": "1da71d60-139e-406f-84c3-67547c386825",
   "metadata": {
    "tags": []
   },
   "source": [
    "### save test set"
   ]
  },
  {
   "cell_type": "code",
   "execution_count": null,
   "id": "fc1d5055-ed93-4b83-a872-e51ffe6cf832",
   "metadata": {
    "tags": []
   },
   "outputs": [],
   "source": [
    "tb_labels_test.to_csv(f'{preproc_conf[\"cv_split_dir_10fold\"]}test_split_stratified.csv', index=False)"
   ]
  },
  {
   "cell_type": "raw",
   "id": "2293eafd-3d40-4c26-802f-f58ed07f7c3e",
   "metadata": {
    "tags": []
   },
   "source": [
    "!mkdir /home/ngsci/project/tuberculosis_detection/cv_splits_10fold"
   ]
  },
  {
   "cell_type": "markdown",
   "id": "58d52039-a267-40fe-8031-ee96d325f304",
   "metadata": {},
   "source": [
    "### Generate 10 train, val folds"
   ]
  },
  {
   "cell_type": "code",
   "execution_count": null,
   "id": "566c7c60-f8fd-4e66-b922-e6775f6074ac",
   "metadata": {
    "tags": []
   },
   "outputs": [],
   "source": [
    "tb_labels_rest = tb_labels.iloc[ ~np.in1d(tb_labels.index.values, val_splits[0]) ].reset_index(drop=True)"
   ]
  },
  {
   "cell_type": "code",
   "execution_count": null,
   "id": "f73f4bc6-4426-436b-a4b7-9b65a39029e1",
   "metadata": {
    "tags": []
   },
   "outputs": [],
   "source": [
    "tb_labels_rest"
   ]
  },
  {
   "cell_type": "code",
   "execution_count": null,
   "id": "e807dd26-1388-4571-b8f4-24ae3a2a052e",
   "metadata": {
    "tags": []
   },
   "outputs": [],
   "source": [
    "n_splits = 10"
   ]
  },
  {
   "cell_type": "code",
   "execution_count": null,
   "id": "5ba91b59-4bce-47ad-a671-304e8bfb4430",
   "metadata": {
    "tags": []
   },
   "outputs": [],
   "source": [
    "skf = StratifiedKFold(n_splits=n_splits, shuffle=True, random_state=87)"
   ]
  },
  {
   "cell_type": "code",
   "execution_count": null,
   "id": "ab8ffc6d-f169-40a8-8ce8-988fb7d6ac2c",
   "metadata": {
    "tags": []
   },
   "outputs": [],
   "source": [
    "data_idx = tb_labels_rest.index.values\n",
    "\n",
    "train_splits = []\n",
    "val_splits = []\n",
    "\n",
    "for train_idx, val_idx in skf.split(data_idx, tb_labels_rest.iloc[data_idx]['tb_positive']):\n",
    "    \n",
    "    train_splits.append(train_idx)\n",
    "    val_splits.append(val_idx)"
   ]
  },
  {
   "cell_type": "code",
   "execution_count": null,
   "id": "ba9cdb42-aa41-4c01-935b-a988c3cead2d",
   "metadata": {
    "tags": []
   },
   "outputs": [],
   "source": [
    "len(train_splits[0]), len(val_splits[0])"
   ]
  },
  {
   "cell_type": "code",
   "execution_count": null,
   "id": "ada0c4f3-49f3-470c-a61e-3a6d3f616a46",
   "metadata": {
    "tags": []
   },
   "outputs": [],
   "source": [
    "for i in range(n_splits):\n",
    "    print(np.unique(tb_labels_rest.iloc[train_splits[i]]['tb_positive'], return_counts=True))"
   ]
  },
  {
   "cell_type": "code",
   "execution_count": null,
   "id": "75544a6b-4006-4c52-a9e1-e583d43ef519",
   "metadata": {
    "tags": []
   },
   "outputs": [],
   "source": [
    "# check if there is any overlap in the val sets\n",
    "for i in range(n_splits-1):\n",
    "    print(list(set(val_splits[0]) & set(val_splits[i+1])))"
   ]
  },
  {
   "cell_type": "markdown",
   "id": "a64b6321-88fe-4555-986d-a7ad2eae7b93",
   "metadata": {},
   "source": [
    "### save folds"
   ]
  },
  {
   "cell_type": "code",
   "execution_count": null,
   "id": "e5f420bf-f7b4-4aec-aebf-b0e91bdfba5c",
   "metadata": {
    "tags": []
   },
   "outputs": [],
   "source": [
    "for s in range(n_splits):\n",
    "    # save train set\n",
    "    tb_labels_rest.iloc[train_splits[s]].to_csv(f'{preproc_conf[\"cv_split_dir_10fold\"]}train_split_stratified_{s}.csv', index=False)\n",
    "    \n",
    "    # save val set\n",
    "    tb_labels_rest.iloc[val_splits[s]].to_csv(f'{preproc_conf[\"cv_split_dir_10fold\"]}val_split_stratified_{s}.csv', index=False)"
   ]
  },
  {
   "cell_type": "code",
   "execution_count": null,
   "id": "f27d8e63-1011-4807-84b5-3dd3bdc62b7f",
   "metadata": {},
   "outputs": [],
   "source": []
  }
 ],
 "metadata": {
  "kernelspec": {
   "display_name": "Python 3 (ipykernel)",
   "language": "python",
   "name": "python3"
  },
  "language_info": {
   "codemirror_mode": {
    "name": "ipython",
    "version": 3
   },
   "file_extension": ".py",
   "mimetype": "text/x-python",
   "name": "python",
   "nbconvert_exporter": "python",
   "pygments_lexer": "ipython3",
   "version": "3.10.12"
  }
 },
 "nbformat": 4,
 "nbformat_minor": 5
}
