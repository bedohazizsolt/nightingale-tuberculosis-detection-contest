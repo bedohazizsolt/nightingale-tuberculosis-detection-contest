{
 "cells": [
  {
   "cell_type": "raw",
   "id": "2ac8b200-b498-4b3d-b0df-248dc8bf2958",
   "metadata": {},
   "source": [
    "\"\"\"\n",
    "Copyright 2024 Zsolt Bedőházi, András M. Biricz\n",
    "\n",
    "Licensed under the Apache License, Version 2.0 (the \"License\");\n",
    "you may not use this file except in compliance with the License.\n",
    "You may obtain a copy of the License at\n",
    "\n",
    "    https://www.apache.org/licenses/LICENSE-2.0\n",
    "\n",
    "Unless required by applicable law or agreed to in writing, software\n",
    "distributed under the License is distributed on an \"AS IS\" BASIS,\n",
    "WITHOUT WARRANTIES OR CONDITIONS OF ANY KIND, either express or implied.\n",
    "See the License for the specific language governing permissions and\n",
    "limitations under the License.\n",
    "\"\"\""
   ]
  },
  {
   "cell_type": "raw",
   "id": "cb7efd90-90ca-4511-bbea-36bbee72bf26",
   "metadata": {
    "tags": []
   },
   "source": [
    "!pip install hydra-core"
   ]
  },
  {
   "cell_type": "code",
   "execution_count": null,
   "id": "581a153b-bde2-4761-914a-a6341d155b5d",
   "metadata": {
    "tags": []
   },
   "outputs": [],
   "source": [
    "import sys\n",
    "import os\n",
    "import random\n",
    "import glob\n",
    "import ngsci\n",
    "import h5py\n",
    "import cv2\n",
    "import yaml\n",
    "import matplotlib\n",
    "import torch\n",
    "#import hydra\n",
    "import numpy as np\n",
    "import pandas as pd\n",
    "from tqdm import tqdm\n",
    "from openslide import OpenSlide\n",
    "from PIL import Image\n",
    "from collections import Counter\n",
    "import matplotlib.pyplot as plt\n",
    "from omegaconf import OmegaConf\n",
    "from omegaconf import DictConfig\n",
    "import h5py"
   ]
  },
  {
   "cell_type": "markdown",
   "id": "22696b92-1fd2-4b77-bfae-133366161db5",
   "metadata": {},
   "source": [
    "#### function to read individual files each with one sample's data"
   ]
  },
  {
   "cell_type": "code",
   "execution_count": null,
   "id": "6a5140e7-1941-48f1-b029-f2014a721636",
   "metadata": {
    "tags": []
   },
   "outputs": [],
   "source": [
    "def load_h5_file(filename):\n",
    "    with h5py.File(filename, \"r\") as f:\n",
    "        coords = f['coords'][()]\n",
    "        features = f['features'][()] #[:,0]#[()]\n",
    "        tb_positive = f['tb_positive'][()]\n",
    "        \n",
    "        return coords, features, tb_positive"
   ]
  },
  {
   "cell_type": "markdown",
   "id": "70270b1f-f015-42f0-bdc1-46703a148bb8",
   "metadata": {
    "tags": []
   },
   "source": [
    "#### here locate correct config"
   ]
  },
  {
   "cell_type": "code",
   "execution_count": null,
   "id": "63e511c4-e2df-46e9-b144-9450f3d8ea39",
   "metadata": {
    "tags": []
   },
   "outputs": [],
   "source": [
    "conf_preproc = OmegaConf.load(\"/home/ngsci/project/tuberculosis_detection/conf/preproc.yaml\")\n",
    "#conf_preproc = conf_preproc[\"transformer_on_embeddings_bag\"][\"dinov2-vit-small_224_224_patches\"]\n",
    "conf_preproc = conf_preproc[\"transformer_on_embeddings_bag\"][\"uni_224_224_patches\"]"
   ]
  },
  {
   "cell_type": "markdown",
   "id": "2c011430-2cb2-4b23-90f2-e21609c6f5a7",
   "metadata": {},
   "source": [
    "#### try out what comes from config"
   ]
  },
  {
   "cell_type": "code",
   "execution_count": null,
   "id": "784ac2ee-19ed-44e8-a951-0b888539ef11",
   "metadata": {
    "tags": []
   },
   "outputs": [],
   "source": [
    "tb_labels = pd.read_csv(conf_preproc[\"tb_labels_csv\"])"
   ]
  },
  {
   "cell_type": "code",
   "execution_count": null,
   "id": "a8d3091f-78d0-4e75-93b7-a3ef595ddfb5",
   "metadata": {
    "tags": []
   },
   "outputs": [],
   "source": [
    "conf_preproc[\"emb_dir\"]"
   ]
  },
  {
   "cell_type": "code",
   "execution_count": null,
   "id": "359d1153-e065-41b2-ba50-c8a210ef6266",
   "metadata": {
    "tags": []
   },
   "outputs": [],
   "source": [
    "file_names_all_h5 = np.array( np.array( sorted(  glob.glob( os.path.join(conf_preproc[\"emb_dir\"], \"*.h5\"))   )) )"
   ]
  },
  {
   "cell_type": "code",
   "execution_count": null,
   "id": "1d93a37f-d89e-4deb-8d29-364156c8615d",
   "metadata": {
    "tags": []
   },
   "outputs": [],
   "source": [
    "file_names_all_h5[:3]"
   ]
  },
  {
   "cell_type": "code",
   "execution_count": null,
   "id": "30d01a07-a2de-4959-8c16-3d2a2e38ad4d",
   "metadata": {
    "tags": []
   },
   "outputs": [],
   "source": [
    "file_names_all_h5[0], file_names_all_h5.shape"
   ]
  },
  {
   "cell_type": "code",
   "execution_count": null,
   "id": "53b2fade-c9bd-44df-b5de-49d5c6bb3dba",
   "metadata": {
    "tags": []
   },
   "outputs": [],
   "source": [
    "coordst, featurest, tb_positivet = load_h5_file(file_names_all_h5[0])\n",
    "coordst.shape, featurest.shape, tb_positivet"
   ]
  },
  {
   "cell_type": "code",
   "execution_count": null,
   "id": "23be41b2-7dfc-4e36-a4b3-b45626330e46",
   "metadata": {
    "tags": []
   },
   "outputs": [],
   "source": [
    "BAG_DIM = featurest.shape[0]\n",
    "EMB_DIM = featurest.shape[1]\n",
    "#((110, 2), (110, 384), 0) or other possible dims for embeddings\n",
    "\n",
    "features_all = np.zeros((file_names_all_h5.shape[0], BAG_DIM, EMB_DIM), dtype=np.float16)\n",
    "tb_positive_all = np.zeros(file_names_all_h5.shape[0])\n",
    "coords_all = np.zeros((file_names_all_h5.shape[0], BAG_DIM, 2), dtype=np.uint16)\n",
    "\n",
    "for f in tqdm(range(file_names_all_h5.shape[0])):\n",
    "    coords, features, tb_positive = load_h5_file(file_names_all_h5[f])\n",
    "    features_all[f] = features\n",
    "    tb_positive_all[f] = tb_positive\n",
    "    coords_all[f] = coords\n",
    "    "
   ]
  },
  {
   "cell_type": "markdown",
   "id": "71702076-3b61-4b9f-bd79-6175ce121bbe",
   "metadata": {},
   "source": [
    "#### check if save path is CORRECT !!"
   ]
  },
  {
   "cell_type": "code",
   "execution_count": null,
   "id": "e5d8a8f7-9ffb-485a-9f65-f15d1f025069",
   "metadata": {
    "tags": []
   },
   "outputs": [],
   "source": [
    "conf_preproc[\"emb_h5\"]"
   ]
  },
  {
   "cell_type": "markdown",
   "id": "3711105a-b9a5-4759-86fc-7781cc3adf69",
   "metadata": {},
   "source": [
    "#### saving"
   ]
  },
  {
   "cell_type": "code",
   "execution_count": null,
   "id": "759ad831-582e-4f7d-b738-85c613762ad0",
   "metadata": {
    "tags": []
   },
   "outputs": [],
   "source": [
    "%%time\n",
    "with h5py.File(conf_preproc[\"emb_h5\"], 'w') as h5f:\n",
    "    h5f.create_dataset(\"features\", data=features_all)\n",
    "    h5f.create_dataset(\"coords\", data=coords_all)\n",
    "    h5f.create_dataset(\"tb_positive\", data=tb_positive_all)"
   ]
  },
  {
   "cell_type": "markdown",
   "id": "a51078d2-0ee3-4a86-9c6e-9988a257614e",
   "metadata": {},
   "source": [
    "### TESTING"
   ]
  },
  {
   "cell_type": "code",
   "execution_count": null,
   "id": "4fce0a18-7820-42a7-af0e-7634bd20de4b",
   "metadata": {
    "tags": []
   },
   "outputs": [],
   "source": [
    "def load_h5_file_test(filename):\n",
    "    with h5py.File(filename, \"r\") as f:\n",
    "        coords = f['coords'][()]\n",
    "        features = f['features'][()]\n",
    "        tb_positive = f['tb_positive'][()]\n",
    "        \n",
    "        return coords, features, tb_positive"
   ]
  },
  {
   "cell_type": "code",
   "execution_count": null,
   "id": "80dbcd9f-ffe0-47e5-9903-460387610c61",
   "metadata": {
    "tags": []
   },
   "outputs": [],
   "source": [
    "coordst, featurest, tb_positivet = load_h5_file_test(conf_preproc[\"emb_h5\"])"
   ]
  },
  {
   "cell_type": "code",
   "execution_count": null,
   "id": "e90c507a-c198-488a-ad5c-d1617b540493",
   "metadata": {
    "tags": []
   },
   "outputs": [],
   "source": [
    "coordst.shape, featurest.shape, tb_positivet.shape"
   ]
  },
  {
   "cell_type": "code",
   "execution_count": null,
   "id": "7263d9ba-74f8-4f8e-9b7a-dfa367ca5e72",
   "metadata": {
    "tags": []
   },
   "outputs": [],
   "source": [
    "featurest.min(), featurest.max(), featurest.mean()"
   ]
  }
 ],
 "metadata": {
  "kernelspec": {
   "display_name": "Python 3 (ipykernel)",
   "language": "python",
   "name": "python3"
  },
  "language_info": {
   "codemirror_mode": {
    "name": "ipython",
    "version": 3
   },
   "file_extension": ".py",
   "mimetype": "text/x-python",
   "name": "python",
   "nbconvert_exporter": "python",
   "pygments_lexer": "ipython3",
   "version": "3.10.12"
  }
 },
 "nbformat": 4,
 "nbformat_minor": 5
}
